{
 "cells": [
  {
   "cell_type": "code",
   "execution_count": 5,
   "metadata": {},
   "outputs": [],
   "source": [
    "import pandas as pd \n",
    "import numpy as np"
   ]
  },
  {
   "cell_type": "code",
   "execution_count": 6,
   "metadata": {},
   "outputs": [
    {
     "name": "stdout",
     "output_type": "stream",
     "text": [
      "2.17.0\n"
     ]
    }
   ],
   "source": [
    "import tensorflow as tf\n",
    "print(tf.__version__)\n",
    "from tensorflow.keras.preprocessing.image import ImageDataGenerator"
   ]
  },
  {
   "cell_type": "code",
   "execution_count": 7,
   "metadata": {},
   "outputs": [
    {
     "name": "stdout",
     "output_type": "stream",
     "text": [
      "Found 61201 images belonging to 43 classes.\n",
      "Found 8743 images belonging to 43 classes.\n",
      "Found 17486 images belonging to 43 classes.\n"
     ]
    }
   ],
   "source": [
    "train_dir = '/home/mhsalmaan/Documents/PGSoftwareLab/Project/MalnetImageClassification/archive/malnet-images-tiny/train'\n",
    "test_dir = '/home/mhsalmaan/Documents/PGSoftwareLab/Project/MalnetImageClassification/archive/malnet-images-tiny/test'\n",
    "validation_dir = '/home/mhsalmaan/Documents/PGSoftwareLab/Project/MalnetImageClassification/archive/malnet-images-tiny/val'\n",
    "\n",
    "# Image data augmentation for training\n",
    "train_datagen = ImageDataGenerator(\n",
    "    rescale=1./255,  # Normalize pixel values to [0, 1]\n",
    "    rotation_range=20,\n",
    "    width_shift_range=0.2,\n",
    "    height_shift_range=0.2,\n",
    "    shear_range=0.2,\n",
    "    zoom_range=0.2,\n",
    "    horizontal_flip=True,\n",
    "    fill_mode='nearest'  # Handle borders after augmentation\n",
    ")\n",
    "\n",
    "test_datagen = ImageDataGenerator(rescale=1./255)\n",
    "validation_datagen = ImageDataGenerator(rescale=1./255)\n",
    "\n",
    "# Load training data\n",
    "train_generator = train_datagen.flow_from_directory(\n",
    "    train_dir,\n",
    "    target_size=(224, 224),  # Resize all images to 224x224\n",
    "    batch_size=32,\n",
    "    class_mode='categorical'  # Since this is multi-class classification\n",
    ")\n",
    "\n",
    "# Load validation data\n",
    "validation_generator = validation_datagen.flow_from_directory(\n",
    "    validation_dir,\n",
    "    target_size=(224, 224),\n",
    "    batch_size=32,\n",
    "    class_mode='categorical'\n",
    ")\n",
    "\n",
    "# Load test data\n",
    "test_generator = test_datagen.flow_from_directory(\n",
    "    test_dir,\n",
    "    target_size=(224, 224),\n",
    "    batch_size=32,\n",
    "    class_mode='categorical',\n",
    "    shuffle=False  # Disable shuffling for consistent evaluation\n",
    ")"
   ]
  },
  {
   "cell_type": "code",
   "execution_count": 8,
   "metadata": {},
   "outputs": [
    {
     "name": "stdout",
     "output_type": "stream",
     "text": [
      "{'addisplay': 0, 'addisplay++adware': 1, 'adload': 2, 'adsware': 3, 'adware++adware': 4, 'adware++grayware++virus': 5, 'adware++virus': 6, 'adwareare': 7, 'backdoor': 8, 'banker++trojan': 9, 'click': 10, 'clicker': 11, 'clicker++trojan': 12, 'clickfraud++riskware': 13, 'downloader': 14, 'dropper++trojan': 15, 'exploit': 16, 'fakeangry': 17, 'fakeapp': 18, 'fakeapp++trojan': 19, 'fakeinst++trojan': 20, 'gray': 21, 'hacktool': 22, 'malware': 23, 'malware++trj': 24, 'monitor': 25, 'ransom++trojan': 26, 'risktool++riskware++virus': 27, 'riskware++smssend': 28, 'rog': 29, 'rootnik++trojan': 30, 'smssend': 31, 'smssend++trojan': 32, 'spr': 33, 'spy': 34, 'spy++trojan': 35, 'spyware': 36, 'trj': 37, 'troj': 38, 'trojandownloader': 39, 'trojandropper': 40, 'virus': 41, 'worm': 42}\n",
      "{'addisplay': 0, 'addisplay++adware': 1, 'adload': 2, 'adsware': 3, 'adware++adware': 4, 'adware++grayware++virus': 5, 'adware++virus': 6, 'adwareare': 7, 'backdoor': 8, 'banker++trojan': 9, 'click': 10, 'clicker': 11, 'clicker++trojan': 12, 'clickfraud++riskware': 13, 'downloader': 14, 'dropper++trojan': 15, 'exploit': 16, 'fakeangry': 17, 'fakeapp': 18, 'fakeapp++trojan': 19, 'fakeinst++trojan': 20, 'gray': 21, 'hacktool': 22, 'malware': 23, 'malware++trj': 24, 'monitor': 25, 'ransom++trojan': 26, 'risktool++riskware++virus': 27, 'riskware++smssend': 28, 'rog': 29, 'rootnik++trojan': 30, 'smssend': 31, 'smssend++trojan': 32, 'spr': 33, 'spy': 34, 'spy++trojan': 35, 'spyware': 36, 'trj': 37, 'troj': 38, 'trojandownloader': 39, 'trojandropper': 40, 'virus': 41, 'worm': 42}\n",
      "{'addisplay': 0, 'addisplay++adware': 1, 'adload': 2, 'adsware': 3, 'adware++adware': 4, 'adware++grayware++virus': 5, 'adware++virus': 6, 'adwareare': 7, 'backdoor': 8, 'banker++trojan': 9, 'click': 10, 'clicker': 11, 'clicker++trojan': 12, 'clickfraud++riskware': 13, 'downloader': 14, 'dropper++trojan': 15, 'exploit': 16, 'fakeangry': 17, 'fakeapp': 18, 'fakeapp++trojan': 19, 'fakeinst++trojan': 20, 'gray': 21, 'hacktool': 22, 'malware': 23, 'malware++trj': 24, 'monitor': 25, 'ransom++trojan': 26, 'risktool++riskware++virus': 27, 'riskware++smssend': 28, 'rog': 29, 'rootnik++trojan': 30, 'smssend': 31, 'smssend++trojan': 32, 'spr': 33, 'spy': 34, 'spy++trojan': 35, 'spyware': 36, 'trj': 37, 'troj': 38, 'trojandownloader': 39, 'trojandropper': 40, 'virus': 41, 'worm': 42}\n"
     ]
    }
   ],
   "source": [
    "print(train_generator.class_indices)\n",
    "print(test_generator.class_indices)\n",
    "print(validation_generator.class_indices)"
   ]
  },
  {
   "cell_type": "code",
   "execution_count": 9,
   "metadata": {},
   "outputs": [
    {
     "name": "stderr",
     "output_type": "stream",
     "text": [
      "WARNING: All log messages before absl::InitializeLog() is called are written to STDERR\n",
      "I0000 00:00:1729838640.330833    4769 cuda_executor.cc:1015] successful NUMA node read from SysFS had negative value (-1), but there must be at least one NUMA node, so returning NUMA node zero. See more at https://github.com/torvalds/linux/blob/v6.0/Documentation/ABI/testing/sysfs-bus-pci#L344-L355\n",
      "I0000 00:00:1729838640.703666    4769 cuda_executor.cc:1015] successful NUMA node read from SysFS had negative value (-1), but there must be at least one NUMA node, so returning NUMA node zero. See more at https://github.com/torvalds/linux/blob/v6.0/Documentation/ABI/testing/sysfs-bus-pci#L344-L355\n",
      "I0000 00:00:1729838640.706596    4769 cuda_executor.cc:1015] successful NUMA node read from SysFS had negative value (-1), but there must be at least one NUMA node, so returning NUMA node zero. See more at https://github.com/torvalds/linux/blob/v6.0/Documentation/ABI/testing/sysfs-bus-pci#L344-L355\n",
      "I0000 00:00:1729838640.712209    4769 cuda_executor.cc:1015] successful NUMA node read from SysFS had negative value (-1), but there must be at least one NUMA node, so returning NUMA node zero. See more at https://github.com/torvalds/linux/blob/v6.0/Documentation/ABI/testing/sysfs-bus-pci#L344-L355\n",
      "I0000 00:00:1729838640.715049    4769 cuda_executor.cc:1015] successful NUMA node read from SysFS had negative value (-1), but there must be at least one NUMA node, so returning NUMA node zero. See more at https://github.com/torvalds/linux/blob/v6.0/Documentation/ABI/testing/sysfs-bus-pci#L344-L355\n",
      "I0000 00:00:1729838640.717556    4769 cuda_executor.cc:1015] successful NUMA node read from SysFS had negative value (-1), but there must be at least one NUMA node, so returning NUMA node zero. See more at https://github.com/torvalds/linux/blob/v6.0/Documentation/ABI/testing/sysfs-bus-pci#L344-L355\n",
      "I0000 00:00:1729838641.017593    4769 cuda_executor.cc:1015] successful NUMA node read from SysFS had negative value (-1), but there must be at least one NUMA node, so returning NUMA node zero. See more at https://github.com/torvalds/linux/blob/v6.0/Documentation/ABI/testing/sysfs-bus-pci#L344-L355\n",
      "I0000 00:00:1729838641.019312    4769 cuda_executor.cc:1015] successful NUMA node read from SysFS had negative value (-1), but there must be at least one NUMA node, so returning NUMA node zero. See more at https://github.com/torvalds/linux/blob/v6.0/Documentation/ABI/testing/sysfs-bus-pci#L344-L355\n",
      "I0000 00:00:1729838641.020931    4769 cuda_executor.cc:1015] successful NUMA node read from SysFS had negative value (-1), but there must be at least one NUMA node, so returning NUMA node zero. See more at https://github.com/torvalds/linux/blob/v6.0/Documentation/ABI/testing/sysfs-bus-pci#L344-L355\n",
      "2024-10-25 12:14:01.022790: I tensorflow/core/common_runtime/gpu/gpu_device.cc:2021] Created device /job:localhost/replica:0/task:0/device:GPU:0 with 2610 MB memory:  -> device: 0, name: NVIDIA GeForce GTX 1650 with Max-Q Design, pci bus id: 0000:01:00.0, compute capability: 7.5\n"
     ]
    }
   ],
   "source": [
    "from tensorflow.keras.applications import ResNet50\n",
    "from tensorflow.keras.layers import Flatten, Dense, Dropout\n",
    "from tensorflow.keras.models import Sequential\n",
    "\n",
    "def build_pretrained_model(input_shape, num_classes):\n",
    "    base_model = ResNet50(weights='imagenet', include_top=False, input_shape=input_shape)\n",
    "    base_model.trainable = False\n",
    "\n",
    "    model = Sequential([\n",
    "        base_model,\n",
    "        Flatten(),\n",
    "        Dense(512, activation='relu'),\n",
    "        Dropout(0.5),\n",
    "        Dense(num_classes, activation='softmax')\n",
    "    ])\n",
    "    return model\n",
    "\n",
    "input_shape = (224, 224, 3)\n",
    "num_classes = len(train_generator.class_indices) \n",
    "\n",
    "model = build_pretrained_model(input_shape, num_classes)"
   ]
  },
  {
   "cell_type": "code",
   "execution_count": 10,
   "metadata": {},
   "outputs": [],
   "source": [
    "model.compile(optimizer='adam', \n",
    "              loss='categorical_crossentropy', \n",
    "              metrics=['accuracy'])"
   ]
  },
  {
   "cell_type": "code",
   "execution_count": 11,
   "metadata": {},
   "outputs": [
    {
     "name": "stdout",
     "output_type": "stream",
     "text": [
      "11.0.0\n"
     ]
    }
   ],
   "source": [
    "import PIL\n",
    "print(PIL.__version__)"
   ]
  },
  {
   "cell_type": "code",
   "execution_count": 12,
   "metadata": {},
   "outputs": [
    {
     "name": "stderr",
     "output_type": "stream",
     "text": [
      "/home/mhsalmaan/Documents/PGSoftwareLab/Project/MalnetImageClassification/test/lib/python3.11/site-packages/keras/src/trainers/data_adapters/py_dataset_adapter.py:121: UserWarning: Your `PyDataset` class should call `super().__init__(**kwargs)` in its constructor. `**kwargs` can include `workers`, `use_multiprocessing`, `max_queue_size`. Do not pass these arguments to `fit()`, as they will be ignored.\n",
      "  self._warn_if_super_not_called()\n"
     ]
    },
    {
     "name": "stdout",
     "output_type": "stream",
     "text": [
      "Epoch 1/5\n"
     ]
    },
    {
     "name": "stderr",
     "output_type": "stream",
     "text": [
      "2024-10-25 12:14:14.058710: W external/local_tsl/tsl/framework/cpu_allocator_impl.cc:83] Allocation of 19267584 exceeds 10% of free system memory.\n",
      "WARNING: All log messages before absl::InitializeLog() is called are written to STDERR\n",
      "I0000 00:00:1729838654.075576   10800 service.cc:146] XLA service 0x7f913004c170 initialized for platform CUDA (this does not guarantee that XLA will be used). Devices:\n",
      "I0000 00:00:1729838654.075608   10800 service.cc:154]   StreamExecutor device (0): NVIDIA GeForce GTX 1650 with Max-Q Design, Compute Capability 7.5\n",
      "2024-10-25 12:14:14.424077: I tensorflow/compiler/mlir/tensorflow/utils/dump_mlir_util.cc:268] disabling MLIR crash reproducer, set env var `MLIR_CRASH_REPRODUCER_DIRECTORY` to enable.\n",
      "2024-10-25 12:14:14.550938: W external/local_tsl/tsl/framework/cpu_allocator_impl.cc:83] Allocation of 19267584 exceeds 10% of free system memory.\n",
      "2024-10-25 12:14:15.789857: I external/local_xla/xla/stream_executor/cuda/cuda_dnn.cc:531] Loaded cuDNN version 8907\n",
      "I0000 00:00:1729838663.780146   10800 device_compiler.h:188] Compiled cluster using XLA!  This line is logged at most once for the lifetime of the process.\n"
     ]
    },
    {
     "name": "stdout",
     "output_type": "stream",
     "text": [
      "\u001b[1m   3/1913\u001b[0m \u001b[37m━━━━━━━━━━━━━━━━━━━━\u001b[0m \u001b[1m9:03\u001b[0m 285ms/step - accuracy: 0.0747 - loss: 10.4111"
     ]
    },
    {
     "name": "stderr",
     "output_type": "stream",
     "text": [
      "2024-10-25 12:14:24.382444: W external/local_tsl/tsl/framework/cpu_allocator_impl.cc:83] Allocation of 19267584 exceeds 10% of free system memory.\n"
     ]
    },
    {
     "name": "stdout",
     "output_type": "stream",
     "text": [
      "\u001b[1m   5/1913\u001b[0m \u001b[37m━━━━━━━━━━━━━━━━━━━━\u001b[0m \u001b[1m12:59\u001b[0m 408ms/step - accuracy: 0.0726 - loss: 12.5808"
     ]
    },
    {
     "name": "stderr",
     "output_type": "stream",
     "text": [
      "2024-10-25 12:14:25.438133: W external/local_tsl/tsl/framework/cpu_allocator_impl.cc:83] Allocation of 19267584 exceeds 10% of free system memory.\n"
     ]
    },
    {
     "name": "stdout",
     "output_type": "stream",
     "text": [
      "\u001b[1m   6/1913\u001b[0m \u001b[37m━━━━━━━━━━━━━━━━━━━━\u001b[0m \u001b[1m13:28\u001b[0m 424ms/step - accuracy: 0.0701 - loss: 13.1903"
     ]
    },
    {
     "name": "stderr",
     "output_type": "stream",
     "text": [
      "2024-10-25 12:14:25.932216: W external/local_tsl/tsl/framework/cpu_allocator_impl.cc:83] Allocation of 19267584 exceeds 10% of free system memory.\n"
     ]
    },
    {
     "name": "stdout",
     "output_type": "stream",
     "text": [
      "\u001b[1m1913/1913\u001b[0m \u001b[32m━━━━━━━━━━━━━━━━━━━━\u001b[0m\u001b[37m\u001b[0m \u001b[1m0s\u001b[0m 458ms/step - accuracy: 0.1883 - loss: 3.8255"
     ]
    },
    {
     "name": "stderr",
     "output_type": "stream",
     "text": [
      "/home/mhsalmaan/Documents/PGSoftwareLab/Project/MalnetImageClassification/test/lib/python3.11/site-packages/keras/src/trainers/data_adapters/py_dataset_adapter.py:121: UserWarning: Your `PyDataset` class should call `super().__init__(**kwargs)` in its constructor. `**kwargs` can include `workers`, `use_multiprocessing`, `max_queue_size`. Do not pass these arguments to `fit()`, as they will be ignored.\n",
      "  self._warn_if_super_not_called()\n"
     ]
    },
    {
     "name": "stdout",
     "output_type": "stream",
     "text": [
      "\u001b[1m1913/1913\u001b[0m \u001b[32m━━━━━━━━━━━━━━━━━━━━\u001b[0m\u001b[37m\u001b[0m \u001b[1m947s\u001b[0m 486ms/step - accuracy: 0.1883 - loss: 3.8253 - val_accuracy: 0.1997 - val_loss: 3.0019\n",
      "Epoch 2/5\n",
      "\u001b[1m1913/1913\u001b[0m \u001b[32m━━━━━━━━━━━━━━━━━━━━\u001b[0m\u001b[37m\u001b[0m \u001b[1m825s\u001b[0m 431ms/step - accuracy: 0.2016 - loss: 2.9629 - val_accuracy: 0.1997 - val_loss: 2.9265\n",
      "Epoch 3/5\n",
      "\u001b[1m1913/1913\u001b[0m \u001b[32m━━━━━━━━━━━━━━━━━━━━\u001b[0m\u001b[37m\u001b[0m \u001b[1m780s\u001b[0m 408ms/step - accuracy: 0.1988 - loss: 2.9198 - val_accuracy: 0.1997 - val_loss: 2.9196\n",
      "Epoch 4/5\n",
      "\u001b[1m1913/1913\u001b[0m \u001b[32m━━━━━━━━━━━━━━━━━━━━\u001b[0m\u001b[37m\u001b[0m \u001b[1m734s\u001b[0m 383ms/step - accuracy: 0.2003 - loss: 2.9095 - val_accuracy: 0.1997 - val_loss: 2.9183\n",
      "Epoch 5/5\n",
      "\u001b[1m1913/1913\u001b[0m \u001b[32m━━━━━━━━━━━━━━━━━━━━\u001b[0m\u001b[37m\u001b[0m \u001b[1m672s\u001b[0m 351ms/step - accuracy: 0.1982 - loss: 2.9199 - val_accuracy: 0.1997 - val_loss: 2.9180\n"
     ]
    }
   ],
   "source": [
    "history = model.fit(\n",
    "    train_generator,\n",
    "    epochs=5,        \n",
    "    validation_data=validation_generator\n",
    ")"
   ]
  },
  {
   "cell_type": "code",
   "execution_count": 13,
   "metadata": {},
   "outputs": [
    {
     "name": "stdout",
     "output_type": "stream",
     "text": [
      "\u001b[1m547/547\u001b[0m \u001b[32m━━━━━━━━━━━━━━━━━━━━\u001b[0m\u001b[37m\u001b[0m \u001b[1m88s\u001b[0m 160ms/step - accuracy: 0.5197 - loss: 2.5372\n",
      "Test Accuracy: 19.96%\n"
     ]
    }
   ],
   "source": [
    "test_loss, test_accuracy = model.evaluate(test_generator)\n",
    "print(f\"Test Accuracy: {test_accuracy * 100:.2f}%\")"
   ]
  },
  {
   "cell_type": "code",
   "execution_count": 14,
   "metadata": {},
   "outputs": [
    {
     "name": "stdout",
     "output_type": "stream",
     "text": [
      "\u001b[1m547/547\u001b[0m \u001b[32m━━━━━━━━━━━━━━━━━━━━\u001b[0m\u001b[37m\u001b[0m \u001b[1m88s\u001b[0m 154ms/step\n",
      "              precision    recall  f1-score   support\n",
      "\n",
      "           0       0.20      1.00      0.33      3491\n",
      "           1       0.00      0.00      0.00        59\n",
      "           2       0.00      0.00      0.00        67\n",
      "           3       0.00      0.00      0.00       530\n",
      "           4       0.00      0.00      0.00       501\n",
      "           5       0.00      0.00      0.00       167\n",
      "           6       0.00      0.00      0.00        55\n",
      "           7       0.00      0.00      0.00        31\n",
      "           8       0.00      0.00      0.00       121\n",
      "           9       0.00      0.00      0.00       221\n",
      "          10       0.00      0.00      0.00        22\n",
      "          11       0.00      0.00      0.00        53\n",
      "          12       0.00      0.00      0.00       573\n",
      "          13       0.00      0.00      0.00        74\n",
      "          14       0.00      0.00      0.00       999\n",
      "          15       0.00      0.00      0.00       119\n",
      "          16       0.00      0.00      0.00      1116\n",
      "          17       0.00      0.00      0.00        42\n",
      "          18       0.00      0.00      0.00        85\n",
      "          19       0.00      0.00      0.00        51\n",
      "          20       0.00      0.00      0.00       143\n",
      "          21       0.00      0.00      0.00       185\n",
      "          22       0.00      0.00      0.00       109\n",
      "          23       0.00      0.00      0.00       501\n",
      "          24       0.00      0.00      0.00       122\n",
      "          25       0.00      0.00      0.00       271\n",
      "          26       0.00      0.00      0.00       231\n",
      "          27       0.00      0.00      0.00        30\n",
      "          28       0.00      0.00      0.00        49\n",
      "          29       0.00      0.00      0.00       395\n",
      "          30       0.00      0.00      0.00        45\n",
      "          31       0.00      0.00      0.00       653\n",
      "          32       0.00      0.00      0.00       859\n",
      "          33       0.00      0.00      0.00      2765\n",
      "          34       0.00      0.00      0.00       329\n",
      "          35       0.00      0.00      0.00        24\n",
      "          36       0.00      0.00      0.00      1318\n",
      "          37       0.00      0.00      0.00       188\n",
      "          38       0.00      0.00      0.00       662\n",
      "          39       0.00      0.00      0.00       113\n",
      "          40       0.00      0.00      0.00        35\n",
      "          41       0.00      0.00      0.00        38\n",
      "          42       0.00      0.00      0.00        44\n",
      "\n",
      "    accuracy                           0.20     17486\n",
      "   macro avg       0.00      0.02      0.01     17486\n",
      "weighted avg       0.04      0.20      0.07     17486\n",
      "\n",
      "[[3491    0    0 ...    0    0    0]\n",
      " [  59    0    0 ...    0    0    0]\n",
      " [  67    0    0 ...    0    0    0]\n",
      " ...\n",
      " [  35    0    0 ...    0    0    0]\n",
      " [  38    0    0 ...    0    0    0]\n",
      " [  44    0    0 ...    0    0    0]]\n"
     ]
    },
    {
     "name": "stderr",
     "output_type": "stream",
     "text": [
      "/home/mhsalmaan/Documents/PGSoftwareLab/Project/MalnetImageClassification/test/lib/python3.11/site-packages/sklearn/metrics/_classification.py:1531: UndefinedMetricWarning: Precision is ill-defined and being set to 0.0 in labels with no predicted samples. Use `zero_division` parameter to control this behavior.\n",
      "  _warn_prf(average, modifier, f\"{metric.capitalize()} is\", len(result))\n",
      "/home/mhsalmaan/Documents/PGSoftwareLab/Project/MalnetImageClassification/test/lib/python3.11/site-packages/sklearn/metrics/_classification.py:1531: UndefinedMetricWarning: Precision is ill-defined and being set to 0.0 in labels with no predicted samples. Use `zero_division` parameter to control this behavior.\n",
      "  _warn_prf(average, modifier, f\"{metric.capitalize()} is\", len(result))\n",
      "/home/mhsalmaan/Documents/PGSoftwareLab/Project/MalnetImageClassification/test/lib/python3.11/site-packages/sklearn/metrics/_classification.py:1531: UndefinedMetricWarning: Precision is ill-defined and being set to 0.0 in labels with no predicted samples. Use `zero_division` parameter to control this behavior.\n",
      "  _warn_prf(average, modifier, f\"{metric.capitalize()} is\", len(result))\n"
     ]
    }
   ],
   "source": [
    "# Make predictions on test data\n",
    "y_pred = model.predict(test_generator)\n",
    "y_pred_classes = np.argmax(y_pred, axis=1)\n",
    "\n",
    "# Get true labels\n",
    "y_true_classes = test_generator.classes  # True labels from the test generator\n",
    "\n",
    "# Classification report\n",
    "from sklearn.metrics import classification_report, confusion_matrix\n",
    "print(classification_report(y_true_classes, y_pred_classes))\n",
    "\n",
    "# Confusion matrix\n",
    "cm = confusion_matrix(y_true_classes, y_pred_classes)\n",
    "print(cm)"
   ]
  },
  {
   "cell_type": "code",
   "execution_count": 15,
   "metadata": {},
   "outputs": [
    {
     "data": {
      "image/png": "[encoded data removed]",
      "text/plain": [
       "<Figure size 640x480 with 1 Axes>"
      ]
     },
     "metadata": {},
     "output_type": "display_data"
    },
    {
     "data": {
      "image/png": "[encoded data removed]",
      "text/plain": [
       "<Figure size 640x480 with 1 Axes>"
      ]
     },
     "metadata": {},
     "output_type": "display_data"
    }
   ],
   "source": [
    "import matplotlib.pyplot as plt\n",
    "\n",
    "# Plot training & validation accuracy values\n",
    "plt.plot(history.history['accuracy'])\n",
    "plt.plot(history.history['val_accuracy'])\n",
    "plt.title('Model accuracy')\n",
    "plt.ylabel('Accuracy')\n",
    "plt.xlabel('Epoch')\n",
    "plt.legend(['Train', 'Validation'], loc='upper left')\n",
    "plt.show()\n",
    "\n",
    "# Plot training & validation loss values\n",
    "plt.plot(history.history['loss'])\n",
    "plt.plot(history.history['val_loss'])\n",
    "plt.title('Model loss')\n",
    "plt.ylabel('Loss')\n",
    "plt.xlabel('Epoch')\n",
    "plt.legend(['Train', 'Validation'], loc='upper left')\n",
    "plt.show()"
   ]
  },
  {
   "cell_type": "code",
   "execution_count": 23,
   "metadata": {},
   "outputs": [
    {
     "name": "stdout",
     "output_type": "stream",
     "text": [
      "Downloading data from https://storage.googleapis.com/tensorflow/keras-applications/mobilenet_v2/mobilenet_v2_weights_tf_dim_ordering_tf_kernels_1.0_224_no_top.h5\n",
      "\u001b[1m9406464/9406464\u001b[0m \u001b[32m━━━━━━━━━━━━━━━━━━━━\u001b[0m\u001b[37m\u001b[0m \u001b[1m5s\u001b[0m 1us/step\n"
     ]
    }
   ],
   "source": [
    "from tensorflow.keras.applications import MobileNetV2\n",
    "from tensorflow.keras.models import Sequential\n",
    "from tensorflow.keras.layers import Dense, Flatten, Dropout\n",
    "\n",
    "def build_pretrained_modelVGG(input_shape, num_classes):\n",
    "    # Load VGG19 with pretrained weights\n",
    "    base_modelVGG = MobileNetV2(weights='imagenet', include_top=False, input_shape=input_shape)\n",
    "    base_modelVGG.trainable = False  # Freeze the base model layers\n",
    "\n",
    "    # Define the model\n",
    "    modelVGG = Sequential([\n",
    "        base_modelVGG,\n",
    "        Flatten(),\n",
    "        Dense(512, activation='relu'),\n",
    "        Dropout(0.5),\n",
    "        Dense(num_classes, activation='softmax')\n",
    "    ])\n",
    "    return modelVGG\n",
    "\n",
    "input_shapeVGG = (224, 224, 3)\n",
    "num_classesVGG = len(train_generator.class_indices) \n",
    "\n",
    "modelVGG = build_pretrained_modelVGG(input_shapeVGG, num_classesVGG)"
   ]
  },
  {
   "cell_type": "code",
   "execution_count": 24,
   "metadata": {},
   "outputs": [],
   "source": [
    "modelVGG.compile(optimizer='adam', loss='categorical_crossentropy', metrics=['accuracy'])"
   ]
  },
  {
   "cell_type": "code",
   "execution_count": 25,
   "metadata": {},
   "outputs": [
    {
     "name": "stdout",
     "output_type": "stream",
     "text": [
      "Epoch 1/5\n",
      "\u001b[1m1912/1912\u001b[0m \u001b[32m━━━━━━━━━━━━━━━━━━━━\u001b[0m\u001b[37m\u001b[0m \u001b[1m969s\u001b[0m 500ms/step - accuracy: 0.2117 - loss: 4.3958 - val_accuracy: 0.3222 - val_loss: 2.4824\n",
      "Epoch 2/5\n",
      "\u001b[1m   1/1912\u001b[0m \u001b[37m━━━━━━━━━━━━━━━━━━━━\u001b[0m \u001b[1m1:59\u001b[0m 63ms/step - accuracy: 0.3438 - loss: 2.4340"
     ]
    },
    {
     "name": "stderr",
     "output_type": "stream",
     "text": [
      "2024-10-25 14:36:12.943562: I tensorflow/core/framework/local_rendezvous.cc:404] Local rendezvous is aborting with status: OUT_OF_RANGE: End of sequence\n",
      "\t [[{{node IteratorGetNext}}]]\n",
      "/usr/lib/python3.11/contextlib.py:155: UserWarning: Your input ran out of data; interrupting training. Make sure that your dataset or generator can generate at least `steps_per_epoch * epochs` batches. You may need to use the `.repeat()` function when building your dataset.\n",
      "  self.gen.throw(typ, value, traceback)\n"
     ]
    },
    {
     "name": "stdout",
     "output_type": "stream",
     "text": [
      "\u001b[1m1912/1912\u001b[0m \u001b[32m━━━━━━━━━━━━━━━━━━━━\u001b[0m\u001b[37m\u001b[0m \u001b[1m4s\u001b[0m 2ms/step - accuracy: 0.3438 - loss: 2.4340 - val_accuracy: 0.2857 - val_loss: 2.3189\n",
      "Epoch 3/5\n",
      "\u001b[1m1912/1912\u001b[0m \u001b[32m━━━━━━━━━━━━━━━━━━━━\u001b[0m\u001b[37m\u001b[0m \u001b[1m847s\u001b[0m 443ms/step - accuracy: 0.2621 - loss: 2.7199 - val_accuracy: 0.3217 - val_loss: 2.4420\n",
      "Epoch 4/5\n",
      "\u001b[1m1912/1912\u001b[0m \u001b[32m━━━━━━━━━━━━━━━━━━━━\u001b[0m\u001b[37m\u001b[0m \u001b[1m0s\u001b[0m 17us/step - accuracy: 0.3438 - loss: 2.7110 - val_accuracy: 0.4286 - val_loss: 2.5598\n",
      "Epoch 5/5\n"
     ]
    },
    {
     "name": "stderr",
     "output_type": "stream",
     "text": [
      "2024-10-25 14:50:23.673798: I tensorflow/core/framework/local_rendezvous.cc:404] Local rendezvous is aborting with status: OUT_OF_RANGE: End of sequence\n",
      "\t [[{{node IteratorGetNext}}]]\n",
      "2024-10-25 14:50:23.674218: I tensorflow/core/framework/local_rendezvous.cc:423] Local rendezvous recv item cancelled. Key hash: 12452236928235634877\n",
      "2024-10-25 14:50:23.674271: I tensorflow/core/framework/local_rendezvous.cc:423] Local rendezvous recv item cancelled. Key hash: 2831342695805150578\n"
     ]
    },
    {
     "name": "stdout",
     "output_type": "stream",
     "text": [
      "\u001b[1m1912/1912\u001b[0m \u001b[32m━━━━━━━━━━━━━━━━━━━━\u001b[0m\u001b[37m\u001b[0m \u001b[1m812s\u001b[0m 425ms/step - accuracy: 0.2687 - loss: 2.6432 - val_accuracy: 0.3465 - val_loss: 2.3648\n"
     ]
    }
   ],
   "source": [
    "historyVGG = modelVGG.fit(\n",
    "    train_generator,\n",
    "    steps_per_epoch=train_generator.samples // train_generator.batch_size,\n",
    "    validation_data=validation_generator,\n",
    "    validation_steps=validation_generator.samples // validation_generator.batch_size,\n",
    "    epochs=5  # Adjust as necessary\n",
    ")\n"
   ]
  },
  {
   "cell_type": "code",
   "execution_count": 26,
   "metadata": {},
   "outputs": [
    {
     "name": "stdout",
     "output_type": "stream",
     "text": [
      "\u001b[1m547/547\u001b[0m \u001b[32m━━━━━━━━━━━━━━━━━━━━\u001b[0m\u001b[37m\u001b[0m \u001b[1m79s\u001b[0m 145ms/step - accuracy: 0.4987 - loss: 2.0294\n",
      "Test Accuracy: 0.35\n"
     ]
    }
   ],
   "source": [
    "test_lossVGG, test_accuracyVGG = modelVGG.evaluate(test_generator)\n",
    "print(f'Test Accuracy: {test_accuracyVGG:.2f}')"
   ]
  },
  {
   "cell_type": "code",
   "execution_count": 27,
   "metadata": {},
   "outputs": [
    {
     "name": "stdout",
     "output_type": "stream",
     "text": [
      "Downloading data from https://storage.googleapis.com/keras-applications/efficientnetb0_notop.h5\n",
      "\u001b[1m16705208/16705208\u001b[0m \u001b[32m━━━━━━━━━━━━━━━━━━━━\u001b[0m\u001b[37m\u001b[0m \u001b[1m5s\u001b[0m 0us/step\n"
     ]
    }
   ],
   "source": [
    "from tensorflow.keras.applications import EfficientNetB0\n",
    "\n",
    "def build_pretrained_modelEfficient(input_shape, num_classes):\n",
    "    base_modelEF = EfficientNetB0(weights='imagenet', include_top=False, input_shape=input_shape)\n",
    "    base_modelEF.trainable = False\n",
    "    modelEF = Sequential([\n",
    "        base_modelEF,\n",
    "        Flatten(),\n",
    "        Dense(512, activation='relu'),\n",
    "        Dropout(0.5),\n",
    "        Dense(num_classes, activation='softmax')\n",
    "    ])\n",
    "    return modelEF\n",
    "\n",
    "input_shapeEF = (224, 224, 3)\n",
    "num_classesEF = len(train_generator.class_indices) \n",
    "\n",
    "modelEF = build_pretrained_modelEfficient(input_shapeEF, num_classesEF)"
   ]
  },
  {
   "cell_type": "code",
   "execution_count": 28,
   "metadata": {},
   "outputs": [],
   "source": [
    "modelEF.compile(optimizer='adam', loss='categorical_crossentropy', metrics=['accuracy'])"
   ]
  },
  {
   "cell_type": "code",
   "execution_count": 30,
   "metadata": {},
   "outputs": [
    {
     "name": "stdout",
     "output_type": "stream",
     "text": [
      "Epoch 1/5\n",
      "\u001b[1m1912/1912\u001b[0m \u001b[32m━━━━━━━━━━━━━━━━━━━━\u001b[0m\u001b[37m\u001b[0m \u001b[1m915s\u001b[0m 478ms/step - accuracy: 0.1708 - loss: 3.4698 - val_accuracy: 0.1994 - val_loss: 3.0005\n",
      "Epoch 2/5\n",
      "\u001b[1m   1/1912\u001b[0m \u001b[37m━━━━━━━━━━━━━━━━━━━━\u001b[0m \u001b[1m2:14\u001b[0m 71ms/step - accuracy: 0.1250 - loss: 3.2361"
     ]
    },
    {
     "name": "stderr",
     "output_type": "stream",
     "text": [
      "/usr/lib/python3.11/contextlib.py:155: UserWarning: Your input ran out of data; interrupting training. Make sure that your dataset or generator can generate at least `steps_per_epoch * epochs` batches. You may need to use the `.repeat()` function when building your dataset.\n",
      "  self.gen.throw(typ, value, traceback)\n"
     ]
    },
    {
     "name": "stdout",
     "output_type": "stream",
     "text": [
      "\u001b[1m1912/1912\u001b[0m \u001b[32m━━━━━━━━━━━━━━━━━━━━\u001b[0m\u001b[37m\u001b[0m \u001b[1m7s\u001b[0m 4ms/step - accuracy: 0.1250 - loss: 3.2361 - val_accuracy: 0.5714 - val_loss: 2.2718\n",
      "Epoch 3/5\n",
      "\u001b[1m1912/1912\u001b[0m \u001b[32m━━━━━━━━━━━━━━━━━━━━\u001b[0m\u001b[37m\u001b[0m \u001b[1m865s\u001b[0m 452ms/step - accuracy: 0.2003 - loss: 2.9679 - val_accuracy: 0.1997 - val_loss: 2.9259\n",
      "Epoch 4/5\n",
      "\u001b[1m1912/1912\u001b[0m \u001b[32m━━━━━━━━━━━━━━━━━━━━\u001b[0m\u001b[37m\u001b[0m \u001b[1m0s\u001b[0m 14us/step - accuracy: 0.0938 - loss: 3.2186 - val_accuracy: 0.1429 - val_loss: 3.2139\n",
      "Epoch 5/5\n"
     ]
    },
    {
     "name": "stderr",
     "output_type": "stream",
     "text": [
      "2024-10-25 15:40:30.213967: I tensorflow/core/framework/local_rendezvous.cc:404] Local rendezvous is aborting with status: OUT_OF_RANGE: End of sequence\n",
      "\t [[{{node IteratorGetNext}}]]\n"
     ]
    },
    {
     "name": "stdout",
     "output_type": "stream",
     "text": [
      "\u001b[1m1912/1912\u001b[0m \u001b[32m━━━━━━━━━━━━━━━━━━━━\u001b[0m\u001b[37m\u001b[0m \u001b[1m839s\u001b[0m 439ms/step - accuracy: 0.1978 - loss: 2.9287 - val_accuracy: 0.1997 - val_loss: 2.9197\n"
     ]
    }
   ],
   "source": [
    "historyEF = modelEF.fit(\n",
    "    train_generator,\n",
    "    steps_per_epoch=train_generator.samples // train_generator.batch_size,\n",
    "    validation_data=validation_generator,\n",
    "    validation_steps=validation_generator.samples // validation_generator.batch_size,\n",
    "    epochs=5  # Adjust as necessary\n",
    ")"
   ]
  },
  {
   "cell_type": "code",
   "execution_count": 31,
   "metadata": {},
   "outputs": [
    {
     "name": "stdout",
     "output_type": "stream",
     "text": [
      "\u001b[1m547/547\u001b[0m \u001b[32m━━━━━━━━━━━━━━━━━━━━\u001b[0m\u001b[37m\u001b[0m \u001b[1m82s\u001b[0m 150ms/step - accuracy: 0.5197 - loss: 2.5350\n",
      "Test Accuracy: 0.20\n"
     ]
    }
   ],
   "source": [
    "test_lossEF, test_accuracyEF = modelEF.evaluate(test_generator)\n",
    "print(f'Test Accuracy: {test_accuracyEF:.2f}')"
   ]
  }
 ],
 "metadata": {
  "kernelspec": {
   "display_name": "test",
   "language": "python",
   "name": "python3"
  },
  "language_info": {
   "codemirror_mode": {
    "name": "ipython",
    "version": 3
   },
   "file_extension": ".py",
   "mimetype": "text/x-python",
   "name": "python",
   "nbconvert_exporter": "python",
   "pygments_lexer": "ipython3",
   "version": "3.11.2"
  }
 },
 "nbformat": 4,
 "nbformat_minor": 2
}
